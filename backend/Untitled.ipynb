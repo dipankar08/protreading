{
 "cells": [
  {
   "cell_type": "code",
   "execution_count": 1,
   "id": "selected-carnival",
   "metadata": {},
   "outputs": [],
   "source": [
    "from enum import Enum\n",
    "\n",
    "\n",
    "class TCandleType(Enum):\n",
    "    MIN_5 = '5m'\n",
    "    MIN_15 = '15m'\n",
    "    MIN_30 = '20m'\n",
    "    HOUR_1 = '1h',\n",
    "    DAY_1 = '1d'\n"
   ]
  },
  {
   "cell_type": "code",
   "execution_count": 2,
   "id": "patent-carrier",
   "metadata": {},
   "outputs": [],
   "source": [
    "x:TCandleType = \"10\""
   ]
  },
  {
   "cell_type": "code",
   "execution_count": 3,
   "id": "norman-fairy",
   "metadata": {},
   "outputs": [
    {
     "data": {
      "text/plain": [
       "'10'"
      ]
     },
     "execution_count": 3,
     "metadata": {},
     "output_type": "execute_result"
    }
   ],
   "source": [
    "x"
   ]
  },
  {
   "cell_type": "code",
   "execution_count": null,
   "id": "administrative-brother",
   "metadata": {},
   "outputs": [],
   "source": []
  }
 ],
 "metadata": {
  "kernelspec": {
   "display_name": "Python 3",
   "language": "python",
   "name": "python3"
  },
  "language_info": {
   "codemirror_mode": {
    "name": "ipython",
    "version": 3
   },
   "file_extension": ".py",
   "mimetype": "text/x-python",
   "name": "python",
   "nbconvert_exporter": "python",
   "pygments_lexer": "ipython3",
   "version": "3.8.3"
  }
 },
 "nbformat": 4,
 "nbformat_minor": 5
}
