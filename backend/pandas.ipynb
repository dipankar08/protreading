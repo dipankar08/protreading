{
 "cells": [
  {
   "cell_type": "code",
   "execution_count": 1,
   "id": "declared-communications",
   "metadata": {},
   "outputs": [],
   "source": [
    "import pandas as pd\n",
    "import numpy as np"
   ]
  },
  {
   "cell_type": "markdown",
   "id": "according-reverse",
   "metadata": {},
   "source": [
    "# Createing a DataFrame\n"
   ]
  },
  {
   "cell_type": "code",
   "execution_count": 2,
   "id": "competent-longitude",
   "metadata": {},
   "outputs": [
    {
     "name": "stdout",
     "output_type": "stream",
     "text": [
      "       Kolkata  Jhargram  Darjiling\n",
      "Mon       75.0      69.0       76.0\n",
      "Tues      85.0      68.0       68.0\n",
      "Wed       86.0      78.0       65.0\n",
      "Thurs     75.0      65.0       65.0\n",
      "Fri       72.0      51.0       53.0\n",
      "Sat       64.0      60.0       73.0\n",
      "Sun       61.0      56.0       85.0\n"
     ]
    }
   ],
   "source": [
    "np.random.seed(seed =42)\n",
    "df = pd.DataFrame(data=np.random.normal(loc=70,scale=10,size=(7,3)),\n",
    "                 columns=(\"Kolkata\",\"Jhargram\",\"Darjiling\"),\n",
    "                  index=('Mon', 'Tues','Wed','Thurs','Fri','Sat','Sun')\n",
    "                 )\n",
    "# Remove all decimals for all the entry\n",
    "df = df.round() \n",
    "print(df)"
   ]
  },
  {
   "cell_type": "markdown",
   "id": "rough-guatemala",
   "metadata": {},
   "source": [
    "# Data Frame Properties\n"
   ]
  },
  {
   "cell_type": "code",
   "execution_count": 12,
   "id": "likely-immigration",
   "metadata": {},
   "outputs": [
    {
     "name": "stdout",
     "output_type": "stream",
     "text": [
      "Index(['Mon', 'Tues', 'Wed', 'Thurs', 'Fri', 'Sat', 'Sun'], dtype='object')\n",
      "Index(['Kolkata', 'Jhargram', 'Darjiling', 'DarjilingDiff',\n",
      "       'DarjilingDiffPer'],\n",
      "      dtype='object')\n",
      "Kolkata             float64\n",
      "Jhargram            float64\n",
      "Darjiling           float64\n",
      "DarjilingDiff       float64\n",
      "DarjilingDiffPer    float64\n",
      "dtype: object\n",
      "Info...\n",
      "<bound method DataFrame.info of        Kolkata  Jhargram  Darjiling  DarjilingDiff  DarjilingDiffPer\n",
      "Mon       75.0      69.0       76.0            NaN               NaN\n",
      "Tues      85.0      68.0       68.0           -8.0         -0.105263\n",
      "Wed       86.0      78.0       65.0           -3.0         -0.044118\n",
      "Thurs     75.0      65.0       65.0            0.0          0.000000\n",
      "Fri       72.0      51.0       53.0          -12.0         -0.184615\n",
      "Sat       64.0      60.0       73.0           20.0          0.377358\n",
      "Sun       61.0      56.0       85.0           12.0          0.164384>\n",
      "Values...\n",
      "[[ 7.50000000e+01  6.90000000e+01  7.60000000e+01             nan\n",
      "              nan]\n",
      " [ 8.50000000e+01  6.80000000e+01  6.80000000e+01 -8.00000000e+00\n",
      "  -1.05263158e-01]\n",
      " [ 8.60000000e+01  7.80000000e+01  6.50000000e+01 -3.00000000e+00\n",
      "  -4.41176471e-02]\n",
      " [ 7.50000000e+01  6.50000000e+01  6.50000000e+01  0.00000000e+00\n",
      "   0.00000000e+00]\n",
      " [ 7.20000000e+01  5.10000000e+01  5.30000000e+01 -1.20000000e+01\n",
      "  -1.84615385e-01]\n",
      " [ 6.40000000e+01  6.00000000e+01  7.30000000e+01  2.00000000e+01\n",
      "   3.77358491e-01]\n",
      " [ 6.10000000e+01  5.60000000e+01  8.50000000e+01  1.20000000e+01\n",
      "   1.64383562e-01]]\n",
      "Axes...\n",
      "[Index(['Mon', 'Tues', 'Wed', 'Thurs', 'Fri', 'Sat', 'Sun'], dtype='object'), Index(['Kolkata', 'Jhargram', 'Darjiling', 'DarjilingDiff',\n",
      "       'DarjilingDiffPer'],\n",
      "      dtype='object')]\n"
     ]
    }
   ],
   "source": [
    "print(df.index)\n",
    "print(df.columns)\n",
    "print(df.dtypes)\n",
    "print(\"Info...\")\n",
    "print(df.info)\n",
    "print(\"Values...\")\n",
    "print(df.values)\n",
    "print(\"Axes...\")\n",
    "print(df.axes)"
   ]
  },
  {
   "cell_type": "markdown",
   "id": "inner-donna",
   "metadata": {},
   "source": [
    "# Row diff\n",
    "1. Find the row wize diferncese\n",
    "2. Find the Row diff with some period\n",
    "3. Find col diffences"
   ]
  },
  {
   "cell_type": "code",
   "execution_count": 3,
   "id": "greatest-celebrity",
   "metadata": {},
   "outputs": [
    {
     "data": {
      "text/html": [
       "<div>\n",
       "<style scoped>\n",
       "    .dataframe tbody tr th:only-of-type {\n",
       "        vertical-align: middle;\n",
       "    }\n",
       "\n",
       "    .dataframe tbody tr th {\n",
       "        vertical-align: top;\n",
       "    }\n",
       "\n",
       "    .dataframe thead th {\n",
       "        text-align: right;\n",
       "    }\n",
       "</style>\n",
       "<table border=\"1\" class=\"dataframe\">\n",
       "  <thead>\n",
       "    <tr style=\"text-align: right;\">\n",
       "      <th></th>\n",
       "      <th>Kolkata</th>\n",
       "      <th>Jhargram</th>\n",
       "      <th>Darjiling</th>\n",
       "    </tr>\n",
       "  </thead>\n",
       "  <tbody>\n",
       "    <tr>\n",
       "      <th>Mon</th>\n",
       "      <td>NaN</td>\n",
       "      <td>NaN</td>\n",
       "      <td>NaN</td>\n",
       "    </tr>\n",
       "    <tr>\n",
       "      <th>Tues</th>\n",
       "      <td>10.0</td>\n",
       "      <td>-1.0</td>\n",
       "      <td>-8.0</td>\n",
       "    </tr>\n",
       "    <tr>\n",
       "      <th>Wed</th>\n",
       "      <td>1.0</td>\n",
       "      <td>10.0</td>\n",
       "      <td>-3.0</td>\n",
       "    </tr>\n",
       "    <tr>\n",
       "      <th>Thurs</th>\n",
       "      <td>-11.0</td>\n",
       "      <td>-13.0</td>\n",
       "      <td>0.0</td>\n",
       "    </tr>\n",
       "    <tr>\n",
       "      <th>Fri</th>\n",
       "      <td>-3.0</td>\n",
       "      <td>-14.0</td>\n",
       "      <td>-12.0</td>\n",
       "    </tr>\n",
       "    <tr>\n",
       "      <th>Sat</th>\n",
       "      <td>-8.0</td>\n",
       "      <td>9.0</td>\n",
       "      <td>20.0</td>\n",
       "    </tr>\n",
       "    <tr>\n",
       "      <th>Sun</th>\n",
       "      <td>-3.0</td>\n",
       "      <td>-4.0</td>\n",
       "      <td>12.0</td>\n",
       "    </tr>\n",
       "  </tbody>\n",
       "</table>\n",
       "</div>"
      ],
      "text/plain": [
       "       Kolkata  Jhargram  Darjiling\n",
       "Mon        NaN       NaN        NaN\n",
       "Tues      10.0      -1.0       -8.0\n",
       "Wed        1.0      10.0       -3.0\n",
       "Thurs    -11.0     -13.0        0.0\n",
       "Fri       -3.0     -14.0      -12.0\n",
       "Sat       -8.0       9.0       20.0\n",
       "Sun       -3.0      -4.0       12.0"
      ]
     },
     "execution_count": 3,
     "metadata": {},
     "output_type": "execute_result"
    }
   ],
   "source": [
    "df.diff()"
   ]
  },
  {
   "cell_type": "code",
   "execution_count": 4,
   "id": "warming-swimming",
   "metadata": {},
   "outputs": [
    {
     "data": {
      "text/html": [
       "<div>\n",
       "<style scoped>\n",
       "    .dataframe tbody tr th:only-of-type {\n",
       "        vertical-align: middle;\n",
       "    }\n",
       "\n",
       "    .dataframe tbody tr th {\n",
       "        vertical-align: top;\n",
       "    }\n",
       "\n",
       "    .dataframe thead th {\n",
       "        text-align: right;\n",
       "    }\n",
       "</style>\n",
       "<table border=\"1\" class=\"dataframe\">\n",
       "  <thead>\n",
       "    <tr style=\"text-align: right;\">\n",
       "      <th></th>\n",
       "      <th>Kolkata</th>\n",
       "      <th>Jhargram</th>\n",
       "      <th>Darjiling</th>\n",
       "    </tr>\n",
       "  </thead>\n",
       "  <tbody>\n",
       "    <tr>\n",
       "      <th>Mon</th>\n",
       "      <td>NaN</td>\n",
       "      <td>NaN</td>\n",
       "      <td>NaN</td>\n",
       "    </tr>\n",
       "    <tr>\n",
       "      <th>Tues</th>\n",
       "      <td>NaN</td>\n",
       "      <td>NaN</td>\n",
       "      <td>NaN</td>\n",
       "    </tr>\n",
       "    <tr>\n",
       "      <th>Wed</th>\n",
       "      <td>11.0</td>\n",
       "      <td>9.0</td>\n",
       "      <td>-11.0</td>\n",
       "    </tr>\n",
       "    <tr>\n",
       "      <th>Thurs</th>\n",
       "      <td>-10.0</td>\n",
       "      <td>-3.0</td>\n",
       "      <td>-3.0</td>\n",
       "    </tr>\n",
       "    <tr>\n",
       "      <th>Fri</th>\n",
       "      <td>-14.0</td>\n",
       "      <td>-27.0</td>\n",
       "      <td>-12.0</td>\n",
       "    </tr>\n",
       "    <tr>\n",
       "      <th>Sat</th>\n",
       "      <td>-11.0</td>\n",
       "      <td>-5.0</td>\n",
       "      <td>8.0</td>\n",
       "    </tr>\n",
       "    <tr>\n",
       "      <th>Sun</th>\n",
       "      <td>-11.0</td>\n",
       "      <td>5.0</td>\n",
       "      <td>32.0</td>\n",
       "    </tr>\n",
       "  </tbody>\n",
       "</table>\n",
       "</div>"
      ],
      "text/plain": [
       "       Kolkata  Jhargram  Darjiling\n",
       "Mon        NaN       NaN        NaN\n",
       "Tues       NaN       NaN        NaN\n",
       "Wed       11.0       9.0      -11.0\n",
       "Thurs    -10.0      -3.0       -3.0\n",
       "Fri      -14.0     -27.0      -12.0\n",
       "Sat      -11.0      -5.0        8.0\n",
       "Sun      -11.0       5.0       32.0"
      ]
     },
     "execution_count": 4,
     "metadata": {},
     "output_type": "execute_result"
    }
   ],
   "source": [
    "df.diff(periods=2)"
   ]
  },
  {
   "cell_type": "code",
   "execution_count": 5,
   "id": "mathematical-exclusive",
   "metadata": {},
   "outputs": [
    {
     "data": {
      "text/html": [
       "<div>\n",
       "<style scoped>\n",
       "    .dataframe tbody tr th:only-of-type {\n",
       "        vertical-align: middle;\n",
       "    }\n",
       "\n",
       "    .dataframe tbody tr th {\n",
       "        vertical-align: top;\n",
       "    }\n",
       "\n",
       "    .dataframe thead th {\n",
       "        text-align: right;\n",
       "    }\n",
       "</style>\n",
       "<table border=\"1\" class=\"dataframe\">\n",
       "  <thead>\n",
       "    <tr style=\"text-align: right;\">\n",
       "      <th></th>\n",
       "      <th>Kolkata</th>\n",
       "      <th>Jhargram</th>\n",
       "      <th>Darjiling</th>\n",
       "    </tr>\n",
       "  </thead>\n",
       "  <tbody>\n",
       "    <tr>\n",
       "      <th>Mon</th>\n",
       "      <td>NaN</td>\n",
       "      <td>-6.0</td>\n",
       "      <td>7.0</td>\n",
       "    </tr>\n",
       "    <tr>\n",
       "      <th>Tues</th>\n",
       "      <td>NaN</td>\n",
       "      <td>-17.0</td>\n",
       "      <td>0.0</td>\n",
       "    </tr>\n",
       "    <tr>\n",
       "      <th>Wed</th>\n",
       "      <td>NaN</td>\n",
       "      <td>-8.0</td>\n",
       "      <td>-13.0</td>\n",
       "    </tr>\n",
       "    <tr>\n",
       "      <th>Thurs</th>\n",
       "      <td>NaN</td>\n",
       "      <td>-10.0</td>\n",
       "      <td>0.0</td>\n",
       "    </tr>\n",
       "    <tr>\n",
       "      <th>Fri</th>\n",
       "      <td>NaN</td>\n",
       "      <td>-21.0</td>\n",
       "      <td>2.0</td>\n",
       "    </tr>\n",
       "    <tr>\n",
       "      <th>Sat</th>\n",
       "      <td>NaN</td>\n",
       "      <td>-4.0</td>\n",
       "      <td>13.0</td>\n",
       "    </tr>\n",
       "    <tr>\n",
       "      <th>Sun</th>\n",
       "      <td>NaN</td>\n",
       "      <td>-5.0</td>\n",
       "      <td>29.0</td>\n",
       "    </tr>\n",
       "  </tbody>\n",
       "</table>\n",
       "</div>"
      ],
      "text/plain": [
       "       Kolkata  Jhargram  Darjiling\n",
       "Mon        NaN      -6.0        7.0\n",
       "Tues       NaN     -17.0        0.0\n",
       "Wed        NaN      -8.0      -13.0\n",
       "Thurs      NaN     -10.0        0.0\n",
       "Fri        NaN     -21.0        2.0\n",
       "Sat        NaN      -4.0       13.0\n",
       "Sun        NaN      -5.0       29.0"
      ]
     },
     "execution_count": 5,
     "metadata": {},
     "output_type": "execute_result"
    }
   ],
   "source": [
    "df.diff(periods=1,axis =1)"
   ]
  },
  {
   "cell_type": "markdown",
   "id": "empty-winning",
   "metadata": {},
   "source": [
    "# Shift row or columm\n",
    "shift allows to shift the row or column for a spacific period.\n",
    "1. Shift rows\n",
    "2. shift columns\n",
    "3. Create new column after shift it \n",
    "4. Creating a percentage of changes column. "
   ]
  },
  {
   "cell_type": "code",
   "execution_count": 6,
   "id": "rental-accident",
   "metadata": {},
   "outputs": [
    {
     "name": "stdout",
     "output_type": "stream",
     "text": [
      "       Kolkata  Jhargram  Darjiling\n",
      "Mon       75.0      69.0       76.0\n",
      "Tues      85.0      68.0       68.0\n",
      "Wed       86.0      78.0       65.0\n",
      "Thurs     75.0      65.0       65.0\n",
      "Fri       72.0      51.0       53.0\n",
      "Sat       64.0      60.0       73.0\n",
      "Sun       61.0      56.0       85.0\n",
      "       Kolkata  Jhargram  Darjiling\n",
      "Mon        NaN       NaN        NaN\n",
      "Tues      75.0      69.0       76.0\n",
      "Wed       85.0      68.0       68.0\n",
      "Thurs     86.0      78.0       65.0\n",
      "Fri       75.0      65.0       65.0\n",
      "Sat       72.0      51.0       53.0\n",
      "Sun       64.0      60.0       73.0\n",
      "       Kolkata  Jhargram  Darjiling\n",
      "Mon       75.0      69.0       76.0\n",
      "Tues      85.0      68.0       68.0\n",
      "Wed       86.0      78.0       65.0\n",
      "Thurs     75.0      65.0       65.0\n",
      "Fri       72.0      51.0       53.0\n",
      "Sat       64.0      60.0       73.0\n",
      "Sun       61.0      56.0       85.0\n"
     ]
    }
   ],
   "source": [
    "print(df)\n",
    "print(df.shift(periods=1)) # value shifted by 1 not the index\n",
    "print(df) # shift is not efefct the original data"
   ]
  },
  {
   "cell_type": "code",
   "execution_count": 7,
   "id": "complete-bargain",
   "metadata": {},
   "outputs": [
    {
     "name": "stdout",
     "output_type": "stream",
     "text": [
      "       Kolkata  Jhargram  Darjiling\n",
      "Mon       75.0      69.0       76.0\n",
      "Tues      85.0      68.0       68.0\n",
      "Wed       86.0      78.0       65.0\n",
      "Thurs     75.0      65.0       65.0\n",
      "Fri       72.0      51.0       53.0\n",
      "Sat       64.0      60.0       73.0\n",
      "Sun       61.0      56.0       85.0\n",
      "       Kolkata  Jhargram  Darjiling\n",
      "Mon        0.0      75.0       69.0\n",
      "Tues       0.0      85.0       68.0\n",
      "Wed        0.0      86.0       78.0\n",
      "Thurs      0.0      75.0       65.0\n",
      "Fri        0.0      72.0       51.0\n",
      "Sat        0.0      64.0       60.0\n",
      "Sun        0.0      61.0       56.0\n",
      "       Kolkata  Jhargram  Darjiling\n",
      "Mon        0.0      75.0       69.0\n",
      "Tues       0.0      85.0       68.0\n",
      "Wed        0.0      86.0       78.0\n",
      "Thurs      0.0      75.0       65.0\n",
      "Fri        0.0      72.0       51.0\n",
      "Sat        0.0      64.0       60.0\n",
      "Sun        0.0      61.0       56.0\n",
      "       Kolkata  Jhargram  Darjiling\n",
      "Mon       75.0      69.0       76.0\n",
      "Tues      85.0      68.0       68.0\n",
      "Wed       86.0      78.0       65.0\n",
      "Thurs     75.0      65.0       65.0\n",
      "Fri       72.0      51.0       53.0\n",
      "Sat       64.0      60.0       73.0\n",
      "Sun       61.0      56.0       85.0\n"
     ]
    }
   ],
   "source": [
    "print(df)\n",
    "print(df.shift(periods=1,axis=1, fill_value=0)) # value shifted by 1 not the column\n",
    "print(df.shift(periods=1,axis=1, fill_value=0)) # value shifted by 1 not the column\n",
    "print(df) # shift is not efefct the original data"
   ]
  },
  {
   "cell_type": "code",
   "execution_count": 8,
   "id": "chicken-ultimate",
   "metadata": {},
   "outputs": [
    {
     "name": "stdout",
     "output_type": "stream",
     "text": [
      "Mon      76.0\n",
      "Tues     68.0\n",
      "Wed      65.0\n",
      "Thurs    65.0\n",
      "Fri      53.0\n",
      "Sat      73.0\n",
      "Sun      85.0\n",
      "Name: Darjiling, dtype: float64\n",
      "Mon       NaN\n",
      "Tues     75.0\n",
      "Wed      85.0\n",
      "Thurs    86.0\n",
      "Fri      75.0\n",
      "Sat      72.0\n",
      "Sun      64.0\n",
      "Name: Kolkata, dtype: float64\n",
      "       Kolkata  Jhargram  Darjiling  DarjilingDiff  DarjilingDiffPer\n",
      "Mon       75.0      69.0       76.0            NaN               NaN\n",
      "Tues      85.0      68.0       68.0           -8.0         -0.105263\n",
      "Wed       86.0      78.0       65.0           -3.0         -0.044118\n",
      "Thurs     75.0      65.0       65.0            0.0          0.000000\n",
      "Fri       72.0      51.0       53.0          -12.0         -0.184615\n",
      "Sat       64.0      60.0       73.0           20.0          0.377358\n",
      "Sun       61.0      56.0       85.0           12.0          0.164384\n"
     ]
    }
   ],
   "source": [
    "print(df['Darjiling'])\n",
    "print(df['Kolkata'].shift(1))\n",
    "# This line adding a diff by just computing the abs differbces\n",
    "df['DarjilingDiff'] = (df['Darjiling'] - df['Darjiling'].shift(1))\n",
    "df['DarjilingDiffPer'] = (df['Darjiling'] - df['Darjiling'].shift(1))/df['Darjiling'].shift(1)\n",
    "print(df)"
   ]
  },
  {
   "cell_type": "markdown",
   "id": "owned-european",
   "metadata": {},
   "source": [
    "# add some code later on..."
   ]
  },
  {
   "cell_type": "code",
   "execution_count": null,
   "id": "continuous-acquisition",
   "metadata": {},
   "outputs": [],
   "source": []
  },
  {
   "cell_type": "code",
   "execution_count": null,
   "id": "incorrect-performer",
   "metadata": {},
   "outputs": [],
   "source": []
  }
 ],
 "metadata": {
  "kernelspec": {
   "display_name": "Python 3",
   "language": "python",
   "name": "python3"
  },
  "language_info": {
   "codemirror_mode": {
    "name": "ipython",
    "version": 3
   },
   "file_extension": ".py",
   "mimetype": "text/x-python",
   "name": "python",
   "nbconvert_exporter": "python",
   "pygments_lexer": "ipython3",
   "version": "3.8.2"
  }
 },
 "nbformat": 4,
 "nbformat_minor": 5
}
